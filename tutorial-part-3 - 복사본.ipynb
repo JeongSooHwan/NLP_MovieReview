{
 "cells": [
  {
   "cell_type": "code",
   "execution_count": 1,
   "metadata": {},
   "outputs": [],
   "source": [
    "import pandas as pd\n",
    "import numpy as np\n",
    "from gensim.models import Word2Vec\n",
    "from sklearn.cluster import KMeans\n",
    "from sklearn.ensemble import RandomForestClassifier\n",
    "\n",
    "from bs4 import BeautifulSoup\n",
    "import re\n",
    "import time\n",
    "\n",
    "from nltk.corpus import stopwords\n",
    "import nltk.data\n",
    "\n",
    "import matplotlib.pyplot as plt\n",
    "import seaborn as sns\n",
    "%matplotlib inline"
   ]
  },
  {
   "cell_type": "code",
   "execution_count": 2,
   "metadata": {},
   "outputs": [
    {
     "data": {
      "text/plain": [
       "<gensim.models.word2vec.Word2Vec at 0x288fe856ba8>"
      ]
     },
     "execution_count": 2,
     "metadata": {},
     "output_type": "execute_result"
    }
   ],
   "source": [
    "model = Word2Vec.load('300features_40minwords_10text')\n",
    "model"
   ]
  },
  {
   "cell_type": "code",
   "execution_count": 3,
   "metadata": {},
   "outputs": [
    {
     "name": "stderr",
     "output_type": "stream",
     "text": [
      "C:\\Users\\shjeong\\Anaconda3\\lib\\site-packages\\ipykernel_launcher.py:6: DeprecationWarning: Call to deprecated `syn0` (Attribute will be removed in 4.0.0, use self.vectors instead).\n",
      "  \n"
     ]
    },
    {
     "data": {
      "text/plain": [
       "numpy.ndarray"
      ]
     },
     "execution_count": 3,
     "metadata": {},
     "output_type": "execute_result"
    }
   ],
   "source": [
    "# 숫자로 단어를 표현\n",
    "# Word2Vec 모델은 어휘의 각 단어에 대한 feature 벡터로 구성되며 \n",
    "# 'syn0'이라는 넘파이 배열로 저장된다.\n",
    "# syn0의 행 수는 모델 어휘의 단어 수\n",
    "# 컬럼 수는 2 부에서 설정 한 피처 벡터의 크기\n",
    "type(model.wv.syn0)"
   ]
  },
  {
   "cell_type": "code",
   "execution_count": 4,
   "metadata": {},
   "outputs": [
    {
     "name": "stderr",
     "output_type": "stream",
     "text": [
      "C:\\Users\\shjeong\\Anaconda3\\lib\\site-packages\\ipykernel_launcher.py:1: DeprecationWarning: Call to deprecated `syn0` (Attribute will be removed in 4.0.0, use self.vectors instead).\n",
      "  \"\"\"Entry point for launching an IPython kernel.\n"
     ]
    },
    {
     "data": {
      "text/plain": [
       "(11986, 300)"
      ]
     },
     "execution_count": 4,
     "metadata": {},
     "output_type": "execute_result"
    }
   ],
   "source": [
    "model.wv.syn0.shape"
   ]
  },
  {
   "cell_type": "code",
   "execution_count": 5,
   "metadata": {},
   "outputs": [
    {
     "name": "stderr",
     "output_type": "stream",
     "text": [
      "C:\\Users\\shjeong\\Anaconda3\\lib\\site-packages\\ipykernel_launcher.py:3: DeprecationWarning: Call to deprecated `syn0` (Attribute will be removed in 4.0.0, use self.vectors instead).\n",
      "  This is separate from the ipykernel package so we can avoid doing imports until\n"
     ]
    },
    {
     "data": {
      "text/plain": [
       "(11986, 300)"
      ]
     },
     "execution_count": 5,
     "metadata": {},
     "output_type": "execute_result"
    }
   ],
   "source": [
    "# syn0의 행 수는 모델 어휘의 단어 수\n",
    "# 열 수는 2부에서 설정한 특징 벡터의 크기\n",
    "model.wv.syn0.shape"
   ]
  },
  {
   "cell_type": "code",
   "execution_count": 6,
   "metadata": {},
   "outputs": [
    {
     "data": {
      "text/plain": [
       "(300,)"
      ]
     },
     "execution_count": 6,
     "metadata": {},
     "output_type": "execute_result"
    }
   ],
   "source": [
    "# 개별 단어 벡터 접근\n",
    "model.wv['flower'].shape"
   ]
  },
  {
   "cell_type": "code",
   "execution_count": 7,
   "metadata": {},
   "outputs": [
    {
     "data": {
      "text/plain": [
       "array([-0.0088857 , -0.067823  ,  0.03431836,  0.02806936,  0.00519367,\n",
       "       -0.01476115, -0.07392541,  0.06223029, -0.00646176,  0.04208216],\n",
       "      dtype=float32)"
      ]
     },
     "execution_count": 7,
     "metadata": {},
     "output_type": "execute_result"
    }
   ],
   "source": [
    "model.wv['flower'][:10]"
   ]
  },
  {
   "cell_type": "code",
   "execution_count": 8,
   "metadata": {},
   "outputs": [
    {
     "name": "stderr",
     "output_type": "stream",
     "text": [
      "C:\\Users\\shjeong\\Anaconda3\\lib\\site-packages\\ipykernel_launcher.py:1: DeprecationWarning: Call to deprecated `syn0` (Attribute will be removed in 4.0.0, use self.vectors instead).\n",
      "  \"\"\"Entry point for launching an IPython kernel.\n"
     ]
    }
   ],
   "source": [
    "word_vectors = model.wv.syn0 # 단어들의 feature vector\n",
    "num_clusters = word_vectors.shape[0] / 5\n",
    "num_clusters = int(num_clusters)\n",
    "\n",
    "# K means 를 정의하고 학습\n",
    "kmeans_clustering = KMeans( n_clusters = num_clusters )\n",
    "label = kmeans_clustering.fit_predict( word_vectors )"
   ]
  },
  {
   "cell_type": "code",
   "execution_count": 9,
   "metadata": {},
   "outputs": [
    {
     "data": {
      "text/plain": [
       "2397"
      ]
     },
     "execution_count": 9,
     "metadata": {},
     "output_type": "execute_result"
    }
   ],
   "source": [
    "num_clusters"
   ]
  },
  {
   "cell_type": "code",
   "execution_count": 10,
   "metadata": {
    "scrolled": false
   },
   "outputs": [
    {
     "name": "stdout",
     "output_type": "stream",
     "text": [
      "\n",
      "Cluster 0\n",
      "['player', 'singer', 'comedian', 'dancer', 'musician', 'pianist', 'songwrit']\n",
      "\n",
      "Cluster 1\n",
      "['benevol', 'squir']\n",
      "\n",
      "Cluster 2\n",
      "['amsterdam', 'ga', 'detent']\n",
      "\n",
      "Cluster 3\n",
      "['outright', 'crass', 'overkil', 'hyperbol']\n",
      "\n",
      "Cluster 4\n",
      "['anthoni', 'gari', 'hopkin', 'harvey', 'heston', 'quinn', 'peck', 'lancast', 'keitel', 'omar', 'sloan', 'charlton', 'mclaglen', 'gosl', 'sharif', 'kotto', 'reinhold', 'lom', 'ffolk', 'yaphet']\n",
      "\n",
      "Cluster 5\n",
      "['beauti', 'gorgeous', 'ravish']\n",
      "\n",
      "Cluster 6\n",
      "['zip']\n",
      "\n",
      "Cluster 7\n",
      "['shotgun', 'bait', 'gunshot', 'electrocut', 'hatchet', 'jackhamm', 'thrower']\n",
      "\n",
      "Cluster 8\n",
      "['julia', 'drew', 'hannah', 'lindsay', 'melissa', 'vanessa', 'lauren', 'sarandon', 'malon', 'debbi', 'christina', 'olsen', 'gina', 'arquett', 'bacal', 'angi', 'brenda', 'conni', 'kirsten', 'stile', 'feisti', 'dunst', 'erin', 'rees', 'shue', 'natasha', 'cheryl', 'dickinson', 'kristen', 'lindsey', 'tilli', 'elisabeth', 'rosanna', 'kudrow', 'witherspoon', 'bateman', 'selma', 'longoria', 'silverston', 'friel', 'susi', 'paquin', 'fiorentino', 'fari', 'ringwald']\n",
      "\n",
      "Cluster 9\n",
      "['atlanti', 'narnia', 'gulliv', 'laputa']\n"
     ]
    }
   ],
   "source": [
    "# 각 단어를 라벨과 매핑되게 \"(word - Index)꼴의 dictionary 생성\n",
    "label = list(label)\n",
    "names = model.wv.index2word\n",
    "word_centroid_map = {names[i]: label[i] for i in range(len(names))}\n",
    "\n",
    "# 첫번째 클러스터의 처음 10개를 출력\n",
    "for cluster in range(0,10):\n",
    "    # 클러스터 번호를 출력\n",
    "    print(\"\\nCluster {}\".format(cluster))\n",
    "    \n",
    "    # 클러스터번호와 클러스터에 있는 단어를 찍는다.\n",
    "    words = []\n",
    "    for i in range(0,len(list(word_centroid_map.values()))):\n",
    "        if( list(word_centroid_map.values())[i] == cluster ):\n",
    "            words.append(list(word_centroid_map.keys())[i])\n",
    "    print(words)"
   ]
  },
  {
   "cell_type": "code",
   "execution_count": 11,
   "metadata": {},
   "outputs": [
    {
     "data": {
      "text/plain": [
       "886"
      ]
     },
     "execution_count": 11,
     "metadata": {},
     "output_type": "execute_result"
    }
   ],
   "source": [
    "list(word_centroid_map.values())[0]"
   ]
  },
  {
   "cell_type": "code",
   "execution_count": 12,
   "metadata": {},
   "outputs": [
    {
     "data": {
      "text/plain": [
       "439"
      ]
     },
     "execution_count": 12,
     "metadata": {},
     "output_type": "execute_result"
    }
   ],
   "source": [
    "word_centroid_map['niven']"
   ]
  },
  {
   "cell_type": "code",
   "execution_count": 13,
   "metadata": {},
   "outputs": [],
   "source": [
    "\"\"\"\n",
    "판다스로 데이터프레임 형태의 데이터로 읽어온다.\n",
    "QUOTE_MINIMAL (0), QUOTE_ALL (1), \n",
    "QUOTE_NONNUMERIC (2) or QUOTE_NONE (3).\n",
    "\n",
    "그리고 이전 튜토리얼에서 했던 것처럼 clean_train_reviews 와 \n",
    "clean_test_reviews 로 텍스트를 정제한다.\n",
    "\"\"\"\n",
    "train = pd.read_csv('data/labeledTrainData.tsv', \n",
    "                    header=0, delimiter=\"\\t\", quoting=3)\n",
    "test = pd.read_csv('data/testData.tsv', \n",
    "                   header=0, delimiter=\"\\t\", quoting=3)\n",
    "# unlabeled_train = pd.read_csv( 'data/unlabeledTrainData.tsv', header=0,  delimiter=\"\\t\", quoting=3 )"
   ]
  },
  {
   "cell_type": "code",
   "execution_count": 14,
   "metadata": {},
   "outputs": [],
   "source": [
    "from KaggleWord2VecUtility import KaggleWord2VecUtility\n",
    "# 학습 리뷰를 정제한다.\n",
    "clean_train_reviews = []\n",
    "for review in train[\"review\"]:\n",
    "    clean_train_reviews.append(\n",
    "        KaggleWord2VecUtility.review_to_wordlist( review, \\\n",
    "        remove_stopwords=True ))"
   ]
  },
  {
   "cell_type": "code",
   "execution_count": 15,
   "metadata": {},
   "outputs": [
    {
     "data": {
      "text/plain": [
       "84"
      ]
     },
     "execution_count": 15,
     "metadata": {},
     "output_type": "execute_result"
    }
   ],
   "source": [
    "len(clean_train_reviews[1])"
   ]
  },
  {
   "cell_type": "code",
   "execution_count": 16,
   "metadata": {},
   "outputs": [],
   "source": [
    "# 테스트 리뷰를 정제한다.\n",
    "clean_test_reviews = []\n",
    "for review in test[\"review\"]:\n",
    "    clean_test_reviews.append(\n",
    "        KaggleWord2VecUtility.review_to_wordlist( review, \\\n",
    "        remove_stopwords=True ))"
   ]
  },
  {
   "cell_type": "code",
   "execution_count": 17,
   "metadata": {},
   "outputs": [
    {
     "data": {
      "text/plain": [
       "array([[0., 0., 0., ..., 0., 0., 0.],\n",
       "       [0., 0., 0., ..., 0., 0., 0.],\n",
       "       [0., 0., 0., ..., 0., 0., 0.],\n",
       "       [0., 0., 0., ..., 0., 0., 0.],\n",
       "       [0., 0., 0., ..., 0., 0., 0.]], dtype=float32)"
      ]
     },
     "execution_count": 17,
     "metadata": {},
     "output_type": "execute_result"
    }
   ],
   "source": [
    "# bags of centroids 생성\n",
    "# 속도를 위해 centroid 학습 세트 bag을 미리 할당 한다.\n",
    "train_centroids = np.zeros((train[\"review\"].size, num_clusters), \\\n",
    "    dtype=\"float32\" )\n",
    "\n",
    "train_centroids[:5]"
   ]
  },
  {
   "cell_type": "code",
   "execution_count": 18,
   "metadata": {},
   "outputs": [],
   "source": [
    "def create_bag_of_centroids( wordlist, word_centroid_map ):\n",
    "    \n",
    "    num_centroids = max( word_centroid_map.values() ) + 1\n",
    "    \n",
    "    bag_of_centroids = np.zeros( num_centroids, dtype=\"float32\" )\n",
    "    \n",
    "    for word in wordlist:\n",
    "        if word in word_centroid_map:\n",
    "            index = word_centroid_map[word]\n",
    "            bag_of_centroids[index] += 1\n",
    "    \n",
    "    return bag_of_centroids"
   ]
  },
  {
   "cell_type": "code",
   "execution_count": 19,
   "metadata": {},
   "outputs": [
    {
     "data": {
      "text/plain": [
       "{'the': 886,\n",
       " 'and': 468,\n",
       " 'a': 1516,\n",
       " 'of': 1639,\n",
       " 'to': 751,\n",
       " 'is': 1890,\n",
       " 'it': 356,\n",
       " 'in': 935,\n",
       " 'i': 1306,\n",
       " 'this': 356,\n",
       " 'that': 129,\n",
       " 's': 1890,\n",
       " 'movi': 866,\n",
       " 'film': 866,\n",
       " 'was': 749,\n",
       " 'as': 343,\n",
       " 'with': 1241,\n",
       " 'for': 982,\n",
       " 'but': 493,\n",
       " 'you': 451,\n",
       " 't': 288,\n",
       " 'be': 1008,\n",
       " 'on': 663,\n",
       " 'have': 1008,\n",
       " 'not': 679,\n",
       " 'he': 658,\n",
       " 'are': 1477,\n",
       " 'his': 419,\n",
       " 'one': 866,\n",
       " 'all': 129,\n",
       " 'at': 1371,\n",
       " 'they': 1894,\n",
       " 'like': 86,\n",
       " 'by': 760,\n",
       " 'who': 1242,\n",
       " 'an': 2203,\n",
       " 'from': 1142,\n",
       " 'so': 525,\n",
       " 'there': 1375,\n",
       " 'her': 658,\n",
       " 'or': 1253,\n",
       " 'just': 1051,\n",
       " 'about': 874,\n",
       " 'out': 746,\n",
       " 'has': 326,\n",
       " 'if': 1093,\n",
       " 'what': 129,\n",
       " 'time': 1284,\n",
       " 'some': 725,\n",
       " 'make': 822,\n",
       " 'good': 32,\n",
       " 'can': 159,\n",
       " 'charact': 881,\n",
       " 'more': 270,\n",
       " 'when': 1085,\n",
       " 'see': 1905,\n",
       " 'get': 1708,\n",
       " 'veri': 1725,\n",
       " 'she': 658,\n",
       " 'up': 677,\n",
       " 'watch': 1905,\n",
       " 'stori': 1223,\n",
       " 'no': 2105,\n",
       " 'even': 1515,\n",
       " 'would': 610,\n",
       " 'my': 927,\n",
       " 'which': 493,\n",
       " 'their': 1580,\n",
       " 'onli': 1089,\n",
       " 'realli': 1051,\n",
       " 'had': 1008,\n",
       " 'well': 662,\n",
       " 'scene': 2036,\n",
       " 'do': 374,\n",
       " 'other': 1977,\n",
       " 'were': 1477,\n",
       " 'we': 1894,\n",
       " 'me': 1306,\n",
       " 'bad': 32,\n",
       " 'look': 933,\n",
       " 'than': 629,\n",
       " 'most': 90,\n",
       " 'much': 1171,\n",
       " 'end': 645,\n",
       " 'show': 1453,\n",
       " 'will': 2118,\n",
       " 'great': 1982,\n",
       " 'go': 601,\n",
       " 'peopl': 138,\n",
       " 'been': 135,\n",
       " 'also': 1647,\n",
       " 'into': 835,\n",
       " 'first': 1249,\n",
       " 'love': 86,\n",
       " 'becaus': 1318,\n",
       " 'him': 419,\n",
       " 'how': 129,\n",
       " 'way': 1714,\n",
       " 'don': 58,\n",
       " 'play': 732,\n",
       " 'think': 96,\n",
       " 'act': 1105,\n",
       " 'thing': 1040,\n",
       " 'them': 751,\n",
       " 'made': 822,\n",
       " 'then': 1402,\n",
       " 'could': 610,\n",
       " 'too': 525,\n",
       " 'after': 609,\n",
       " 'seem': 949,\n",
       " 'ani': 101,\n",
       " 'know': 281,\n",
       " 'say': 1699,\n",
       " 'plot': 1223,\n",
       " 'work': 2218,\n",
       " 'two': 452,\n",
       " 'actor': 1264,\n",
       " 'year': 137,\n",
       " 'come': 1866,\n",
       " 'take': 1587,\n",
       " 'mani': 725,\n",
       " 'want': 1127,\n",
       " 'seen': 1917,\n",
       " 'never': 511,\n",
       " 'where': 962,\n",
       " 'over': 2380,\n",
       " 'life': 1663,\n",
       " 'tri': 289,\n",
       " 'littl': 2178,\n",
       " 'best': 623,\n",
       " 'did': 374,\n",
       " 'off': 746,\n",
       " 'ever': 1604,\n",
       " 'doe': 374,\n",
       " 'man': 1520,\n",
       " 'better': 514,\n",
       " 'give': 1724,\n",
       " 'your': 451,\n",
       " 'here': 1775,\n",
       " 'perform': 1062,\n",
       " 'find': 18,\n",
       " 'still': 614,\n",
       " 'these': 1510,\n",
       " 'while': 468,\n",
       " 'part': 382,\n",
       " 'whi': 129,\n",
       " 'feel': 43,\n",
       " 'use': 1615,\n",
       " 'someth': 1330,\n",
       " 'back': 2298,\n",
       " 'director': 515,\n",
       " 've': 1008,\n",
       " 'interest': 2285,\n",
       " 'm': 631,\n",
       " 'should': 610,\n",
       " 'such': 1844,\n",
       " 'actual': 1656,\n",
       " 'lot': 1557,\n",
       " 'through': 204,\n",
       " 'real': 1509,\n",
       " 'those': 1510,\n",
       " 'now': 1476,\n",
       " 'guy': 940,\n",
       " 're': 1477,\n",
       " 'doesn': 58,\n",
       " 'live': 1317,\n",
       " 'cast': 1264,\n",
       " 'though': 493,\n",
       " 'old': 536,\n",
       " 'funni': 112,\n",
       " 'didn': 58,\n",
       " 'anoth': 1019,\n",
       " 'star': 589,\n",
       " 'new': 1558,\n",
       " 'role': 1264,\n",
       " 'noth': 1330,\n",
       " 'enjoy': 1009,\n",
       " 'befor': 609,\n",
       " 'start': 1484,\n",
       " 'set': 1455,\n",
       " 'same': 1581,\n",
       " 'point': 1763,\n",
       " 'girl': 1539,\n",
       " 'few': 35,\n",
       " 'action': 317,\n",
       " 'music': 454,\n",
       " 'direct': 515,\n",
       " 'world': 2322,\n",
       " 'everi': 1958,\n",
       " 'day': 2034,\n",
       " 'again': 1018,\n",
       " 'origin': 846,\n",
       " 'believ': 96,\n",
       " 'turn': 118,\n",
       " 'fact': 1413,\n",
       " 'horror': 1096,\n",
       " 'kill': 1594,\n",
       " 'quit': 185,\n",
       " 'thought': 43,\n",
       " 'comedi': 825,\n",
       " 'minut': 1284,\n",
       " 'us': 919,\n",
       " 'down': 928,\n",
       " 'happen': 698,\n",
       " 'effect': 969,\n",
       " 'pretti': 525,\n",
       " 'young': 2046,\n",
       " 'around': 204,\n",
       " 'right': 1107,\n",
       " 'long': 735,\n",
       " 'own': 2306,\n",
       " 'wonder': 2187,\n",
       " 'howev': 493,\n",
       " 'enough': 1855,\n",
       " 'got': 1708,\n",
       " 'both': 1356,\n",
       " 'line': 1105,\n",
       " 'friend': 418,\n",
       " 'big': 1382,\n",
       " 'fan': 977,\n",
       " 'between': 910,\n",
       " 'bit': 1849,\n",
       " 'd': 610,\n",
       " 'script': 446,\n",
       " 'hard': 325,\n",
       " 'seri': 1453,\n",
       " 'may': 1622,\n",
       " 'must': 610,\n",
       " 'person': 138,\n",
       " 'high': 2018,\n",
       " 'last': 536,\n",
       " 'need': 1127,\n",
       " 'becom': 540,\n",
       " 'without': 1189,\n",
       " 'famili': 593,\n",
       " 'tell': 618,\n",
       " 'alway': 1420,\n",
       " 'reason': 2157,\n",
       " 'isn': 1938,\n",
       " 'saw': 194,\n",
       " 'whole': 856,\n",
       " 'place': 1124,\n",
       " 'final': 645,\n",
       " 'least': 1458,\n",
       " 'put': 1866,\n",
       " 'kid': 805,\n",
       " 'almost': 1053,\n",
       " 'differ': 872,\n",
       " 'beauti': 5,\n",
       " 'complet': 1734,\n",
       " 'done': 1410,\n",
       " 'expect': 519,\n",
       " 'laugh': 116,\n",
       " 'sure': 438,\n",
       " 'kind': 830,\n",
       " 'far': 1171,\n",
       " 'name': 1596,\n",
       " 'mean': 2282,\n",
       " 'begin': 1484,\n",
       " 'shot': 1693,\n",
       " 'sinc': 1318,\n",
       " 'll': 2118,\n",
       " 'might': 1622,\n",
       " 'entertain': 1046,\n",
       " 'anyth': 1330,\n",
       " 'screen': 2318,\n",
       " 'yet': 2175,\n",
       " 'call': 618,\n",
       " 'probabl': 447,\n",
       " 'away': 692,\n",
       " 'am': 631,\n",
       " 'lead': 732,\n",
       " 'let': 1291,\n",
       " 'american': 21,\n",
       " 'woman': 1520,\n",
       " 'moment': 1389,\n",
       " 'run': 999,\n",
       " 'help': 1407,\n",
       " 'book': 1937,\n",
       " 'tv': 1236,\n",
       " 'main': 1812,\n",
       " 'fun': 1009,\n",
       " 'rather': 69,\n",
       " 'worst': 369,\n",
       " 'found': 18,\n",
       " 'idea': 151,\n",
       " 'poor': 2130,\n",
       " 'read': 929,\n",
       " 'bore': 399,\n",
       " 'anyon': 163,\n",
       " 'hope': 678,\n",
       " 'each': 1958,\n",
       " 'audienc': 919,\n",
       " 'keep': 2066,\n",
       " 'our': 1701,\n",
       " 'especi': 1239,\n",
       " 'appear': 1037,\n",
       " 'sens': 1895,\n",
       " 'war': 2108,\n",
       " 'surpris': 519,\n",
       " 'although': 493,\n",
       " 'cours': 605,\n",
       " 'second': 1249,\n",
       " 'goe': 601,\n",
       " 'job': 1260,\n",
       " 'mayb': 639,\n",
       " 'worth': 668,\n",
       " 'perfect': 1982,\n",
       " 'three': 452,\n",
       " 'move': 601,\n",
       " 'problem': 793,\n",
       " 'money': 520,\n",
       " 'episod': 134,\n",
       " 'dvd': 2070,\n",
       " 'face': 1680,\n",
       " 'special': 1488,\n",
       " 'onc': 1402,\n",
       " 'everyth': 1863,\n",
       " 'someon': 163,\n",
       " 'mind': 1802,\n",
       " 'night': 1779,\n",
       " 'john': 373,\n",
       " 'hand': 2357,\n",
       " 'certain': 447,\n",
       " 'wasn': 1938,\n",
       " 'togeth': 1351,\n",
       " 'leav': 1513,\n",
       " 'death': 624,\n",
       " 'suppos': 836,\n",
       " 'boy': 1539,\n",
       " 'recommend': 1138,\n",
       " 'product': 2183,\n",
       " 'everyon': 1863,\n",
       " 'true': 1469,\n",
       " 'anim': 1757,\n",
       " 'obvious': 211,\n",
       " 'dure': 935,\n",
       " 'instead': 2045,\n",
       " 'excel': 1000,\n",
       " 'follow': 1785,\n",
       " 'nice': 1131,\n",
       " 'said': 1917,\n",
       " 'wast': 819,\n",
       " 'human': 17,\n",
       " 'dead': 1697,\n",
       " 'hour': 1284,\n",
       " 'rate': 377,\n",
       " 'black': 1027,\n",
       " 'talk': 635,\n",
       " 'murder': 87,\n",
       " 'open': 1186,\n",
       " 'later': 955,\n",
       " 'understand': 1487,\n",
       " 'view': 1376,\n",
       " 'version': 1549,\n",
       " 'miss': 638,\n",
       " 'review': 1460,\n",
       " 'care': 635,\n",
       " 'classic': 696,\n",
       " 'hous': 1790,\n",
       " 'sound': 1648,\n",
       " 'fight': 774,\n",
       " 'eye': 2280,\n",
       " 'wife': 1781,\n",
       " 'head': 2289,\n",
       " 'himself': 419,\n",
       " 'die': 1061,\n",
       " 'short': 735,\n",
       " 'chang': 1049,\n",
       " 'father': 593,\n",
       " 'half': 1928,\n",
       " 'power': 2132,\n",
       " 'left': 1513,\n",
       " 'viewer': 919,\n",
       " 'includ': 145,\n",
       " 'involv': 1381,\n",
       " 'serious': 2055,\n",
       " 'fall': 1359,\n",
       " 'total': 1734,\n",
       " 'men': 2008,\n",
       " 'budget': 2374,\n",
       " 'simpli': 960,\n",
       " 'coupl': 35,\n",
       " 'write': 1003,\n",
       " 'els': 1654,\n",
       " 'entir': 856,\n",
       " 'home': 1790,\n",
       " 'rememb': 906,\n",
       " 'top': 149,\n",
       " 'less': 270,\n",
       " 'pictur': 866,\n",
       " 'produc': 335,\n",
       " 'attempt': 289,\n",
       " 'usual': 660,\n",
       " 'hollywood': 1143,\n",
       " 'possibl': 2089,\n",
       " 'piec': 1492,\n",
       " 'camera': 74,\n",
       " 'stupid': 1472,\n",
       " 'terribl': 179,\n",
       " 'women': 2008,\n",
       " 'wrong': 106,\n",
       " 'sex': 1463,\n",
       " 'disappoint': 519,\n",
       " 'featur': 145,\n",
       " 'releas': 675,\n",
       " 'low': 244,\n",
       " 'along': 204,\n",
       " 'except': 1198,\n",
       " 'portray': 1129,\n",
       " 'word': 1653,\n",
       " 'definit': 447,\n",
       " 'titl': 2382,\n",
       " 'either': 1954,\n",
       " 'video': 345,\n",
       " 'decid': 854,\n",
       " 'absolut': 759,\n",
       " 'aw': 179,\n",
       " 'until': 609,\n",
       " 'given': 1724,\n",
       " 'talent': 241,\n",
       " 'lack': 785,\n",
       " 'game': 379,\n",
       " 'writer': 335,\n",
       " 'next': 2050,\n",
       " 'mother': 593,\n",
       " 'clear': 211,\n",
       " 'style': 1036,\n",
       " 'school': 1588,\n",
       " 'full': 728,\n",
       " 'song': 454,\n",
       " 'rest': 295,\n",
       " 'close': 1667,\n",
       " 'save': 102,\n",
       " 'brother': 2390,\n",
       " 'bring': 1104,\n",
       " 'truli': 759,\n",
       " 'particular': 1239,\n",
       " 'case': 1451,\n",
       " 'base': 83,\n",
       " 'perhap': 639,\n",
       " 'emot': 1559,\n",
       " 'sever': 725,\n",
       " 'flick': 469,\n",
       " 'age': 926,\n",
       " 'dialogu': 1105,\n",
       " 'humor': 1948,\n",
       " 'creat': 89,\n",
       " 'amaz': 810,\n",
       " 'forc': 124,\n",
       " 'killer': 87,\n",
       " 'came': 999,\n",
       " 'heart': 852,\n",
       " 'won': 58,\n",
       " 'small': 1686,\n",
       " 'sort': 830,\n",
       " 'comment': 1460,\n",
       " 'sad': 1255,\n",
       " 'stop': 102,\n",
       " 'near': 1423,\n",
       " 'itself': 1467,\n",
       " 'dark': 1756,\n",
       " 'sequenc': 2036,\n",
       " 'light': 1211,\n",
       " 'develop': 2207,\n",
       " 'joke': 583,\n",
       " 'drama': 825,\n",
       " 'often': 780,\n",
       " 'lost': 939,\n",
       " 'meet': 1387,\n",
       " 'unfortun': 167,\n",
       " 'actress': 1264,\n",
       " 'son': 593,\n",
       " 'experi': 2333,\n",
       " 'guess': 96,\n",
       " 'written': 1410,\n",
       " 'side': 2216,\n",
       " 'earli': 417,\n",
       " 'art': 1063,\n",
       " 'car': 370,\n",
       " 'present': 2324,\n",
       " 'manag': 289,\n",
       " 'yes': 1832,\n",
       " 'under': 648,\n",
       " 'mention': 937,\n",
       " 'hero': 579,\n",
       " 'went': 999,\n",
       " 'couldn': 58,\n",
       " 'cut': 57,\n",
       " 'children': 805,\n",
       " 'extrem': 1725,\n",
       " 'consid': 2177,\n",
       " 'cinema': 1143,\n",
       " 'qualiti': 748,\n",
       " 'horribl': 179,\n",
       " 'basic': 2005,\n",
       " 'imagin': 1487,\n",
       " 'stand': 109,\n",
       " 'genr': 1096,\n",
       " 'against': 1135,\n",
       " 'oh': 64,\n",
       " 'type': 830,\n",
       " 'evil': 1095,\n",
       " 'fail': 1867,\n",
       " 'hit': 890,\n",
       " 'white': 1027,\n",
       " 'ask': 13,\n",
       " 'matter': 1198,\n",
       " 'exampl': 1151,\n",
       " 'overal': 614,\n",
       " 'natur': 2119,\n",
       " 'mysteri': 1333,\n",
       " 'felt': 43,\n",
       " 'support': 879,\n",
       " 'wors': 514,\n",
       " 'impress': 810,\n",
       " 'brilliant': 1982,\n",
       " 'wait': 1739,\n",
       " 'citi': 767,\n",
       " 'voic': 1173,\n",
       " 'despit': 2198,\n",
       " 'town': 2074,\n",
       " 'favorit': 644,\n",
       " 'learn': 281,\n",
       " 'hate': 86,\n",
       " 'question': 1418,\n",
       " 'relationship': 1070,\n",
       " 'histori': 193,\n",
       " 'b': 2381,\n",
       " 'fine': 495,\n",
       " 'mr': 1362,\n",
       " 'throughout': 935,\n",
       " 'alreadi': 609,\n",
       " 'daughter': 1781,\n",
       " 'general': 2120,\n",
       " 'today': 855,\n",
       " 'past': 536,\n",
       " 'success': 987,\n",
       " 'twist': 2268,\n",
       " 'number': 914,\n",
       " 'abl': 862,\n",
       " 'group': 1244,\n",
       " 'touch': 932,\n",
       " 'import': 2336,\n",
       " 'walk': 118,\n",
       " 'credit': 2266,\n",
       " 'child': 805,\n",
       " 'strong': 2271,\n",
       " 'annoy': 1915,\n",
       " 'stay': 424,\n",
       " 'wish': 678,\n",
       " 'sometim': 1505,\n",
       " 'rent': 921,\n",
       " 'theme': 793,\n",
       " 'realiz': 281,\n",
       " 'deal': 1903,\n",
       " 'level': 1017,\n",
       " 'score': 454,\n",
       " 'blood': 190,\n",
       " 'late': 417,\n",
       " 'deserv': 2112,\n",
       " 'appar': 211,\n",
       " 'themselv': 1580,\n",
       " 'event': 968,\n",
       " 'michael': 763,\n",
       " 'edit': 2130,\n",
       " 'situat': 2188,\n",
       " 'sit': 496,\n",
       " 'exact': 1091,\n",
       " 'pleas': 911,\n",
       " 'etc': 2376,\n",
       " 'add': 489,\n",
       " 'behind': 434,\n",
       " 'decent': 305,\n",
       " 'bodi': 1560,\n",
       " 'anyway': 436,\n",
       " 'soon': 1168,\n",
       " 'stuff': 1040,\n",
       " 'robert': 763,\n",
       " 'comic': 859,\n",
       " 'god': 1491,\n",
       " 'self': 324,\n",
       " 'sequel': 2224,\n",
       " 'gave': 1724,\n",
       " 'danc': 340,\n",
       " 'major': 689,\n",
       " 'return': 578,\n",
       " 'element': 1238,\n",
       " 'order': 854,\n",
       " 'pace': 1221,\n",
       " 'slow': 2021,\n",
       " 'ridicul': 1472,\n",
       " 'violenc': 1882,\n",
       " 'continu': 1400,\n",
       " 'husband': 1781,\n",
       " 'career': 1158,\n",
       " 'speak': 848,\n",
       " 'chanc': 718,\n",
       " 'known': 343,\n",
       " 'myself': 1306,\n",
       " 'hilari': 112,\n",
       " 'strang': 1088,\n",
       " 'figur': 1166,\n",
       " 'break': 118,\n",
       " 'shoot': 85,\n",
       " 'incred': 1725,\n",
       " 'relat': 576,\n",
       " 'thank': 1793,\n",
       " 'clich': 2103,\n",
       " 'happi': 1827,\n",
       " 'state': 510,\n",
       " 'documentari': 2310,\n",
       " 'fair': 185,\n",
       " 'countri': 1075,\n",
       " 'heard': 1917,\n",
       " 'polic': 312,\n",
       " 'hold': 865,\n",
       " 'novel': 1937,\n",
       " 'similar': 872,\n",
       " 'took': 1587,\n",
       " 'hell': 691,\n",
       " 'result': 1626,\n",
       " 'wouldn': 58,\n",
       " 'pain': 1261,\n",
       " 'zombi': 2309,\n",
       " 'thriller': 469,\n",
       " 'pick': 1842,\n",
       " 'dream': 1388,\n",
       " 'room': 1573,\n",
       " 'cool': 1131,\n",
       " 'predict': 483,\n",
       " 'offer': 1670,\n",
       " 'shock': 411,\n",
       " 'cop': 191,\n",
       " 'effort': 572,\n",
       " 'taken': 2010,\n",
       " 'convinc': 259,\n",
       " 'femal': 723,\n",
       " 'david': 763,\n",
       " 'told': 618,\n",
       " 'opinion': 1446,\n",
       " 'allow': 1744,\n",
       " 'ok': 436,\n",
       " 'explain': 584,\n",
       " 'realiti': 2322,\n",
       " 'recent': 55,\n",
       " 'gore': 190,\n",
       " 'caus': 298,\n",
       " 'none': 679,\n",
       " 'compar': 844,\n",
       " 'deliv': 1670,\n",
       " 'hear': 1421,\n",
       " 'parent': 2390,\n",
       " 'suspens': 317,\n",
       " 'valu': 748,\n",
       " 'provid': 1670,\n",
       " 'jame': 1514,\n",
       " 'simpl': 1029,\n",
       " 'cannot': 491,\n",
       " 'critic': 857,\n",
       " 'across': 746,\n",
       " 'silli': 715,\n",
       " 'note': 1190,\n",
       " 'ago': 536,\n",
       " 'crap': 108,\n",
       " 'monster': 1962,\n",
       " 'avoid': 1631,\n",
       " 'offic': 394,\n",
       " 'gun': 1718,\n",
       " 'ladi': 455,\n",
       " 'apart': 2245,\n",
       " 'local': 1800,\n",
       " 'theater': 1776,\n",
       " 'spoiler': 2143,\n",
       " 'dog': 484,\n",
       " 'o': 121,\n",
       " 'excit': 2285,\n",
       " 'buy': 273,\n",
       " 'quick': 1981,\n",
       " 'visual': 1332,\n",
       " 'william': 373,\n",
       " 'alon': 1302,\n",
       " 'sexual': 46,\n",
       " 'huge': 878,\n",
       " 'confus': 426,\n",
       " 'tale': 1223,\n",
       " 'build': 1455,\n",
       " 'whose': 760,\n",
       " 'polit': 1886,\n",
       " 'scari': 112,\n",
       " 'crime': 2035,\n",
       " 'street': 736,\n",
       " 'alien': 458,\n",
       " 'middl': 1645,\n",
       " 'sister': 2390,\n",
       " 'villain': 579,\n",
       " 'marri': 397,\n",
       " 'honest': 836,\n",
       " 'somewhat': 185,\n",
       " 'attent': 2147,\n",
       " 'focus': 83,\n",
       " 'check': 1202,\n",
       " 'team': 437,\n",
       " 'shown': 1094,\n",
       " 'class': 272,\n",
       " 'jack': 464,\n",
       " 'typic': 660,\n",
       " 'toward': 293,\n",
       " 'filmmak': 1354,\n",
       " 'singl': 1053,\n",
       " 'dialog': 1105,\n",
       " 'exist': 1397,\n",
       " 'english': 290,\n",
       " 'pull': 1866,\n",
       " 'pass': 999,\n",
       " 'stage': 1471,\n",
       " 'yourself': 451,\n",
       " 'cinematographi': 94,\n",
       " 'pay': 1935,\n",
       " 'four': 452,\n",
       " 'messag': 793,\n",
       " 'escap': 119,\n",
       " 'modern': 165,\n",
       " 'cover': 63,\n",
       " 'futur': 17,\n",
       " 'king': 262,\n",
       " 'charm': 490,\n",
       " 'cheap': 440,\n",
       " 'form': 778,\n",
       " 'drive': 815,\n",
       " 'unlik': 2079,\n",
       " 'win': 132,\n",
       " 'prove': 331,\n",
       " 'plan': 1092,\n",
       " 'subject': 2238,\n",
       " 'respect': 1955,\n",
       " 'straight': 1064,\n",
       " 'season': 91,\n",
       " 'carri': 1866,\n",
       " 'intellig': 1810,\n",
       " 'non': 1544,\n",
       " 'remind': 1992,\n",
       " 'attack': 85,\n",
       " 'rock': 1218,\n",
       " 'due': 2198,\n",
       " 'detail': 2334,\n",
       " 'beyond': 1551,\n",
       " 'fill': 2056,\n",
       " 'western': 1146,\n",
       " 'fast': 2021,\n",
       " 'knew': 2102,\n",
       " 'british': 1287,\n",
       " 'richard': 763,\n",
       " 'weak': 2005,\n",
       " 'discov': 281,\n",
       " 'georg': 763,\n",
       " 'fit': 682,\n",
       " 'doubt': 1198,\n",
       " 'date': 1811,\n",
       " 'french': 290,\n",
       " 'televis': 1236,\n",
       " 'atmospher': 371,\n",
       " 'member': 1537,\n",
       " 'secret': 51,\n",
       " 'earth': 885,\n",
       " 'truth': 2163,\n",
       " 'romant': 798,\n",
       " 'easili': 2089,\n",
       " 'notic': 281,\n",
       " 'admit': 1699,\n",
       " 'aren': 1938,\n",
       " 'battl': 765,\n",
       " 'previous': 955,\n",
       " 'ten': 117,\n",
       " 'spend': 819,\n",
       " 'remain': 38,\n",
       " 'air': 22,\n",
       " 'storylin': 1223,\n",
       " 'teenag': 1758,\n",
       " 'upon': 663,\n",
       " 'mark': 2082,\n",
       " 'gay': 1148,\n",
       " 'aspect': 238,\n",
       " 'adult': 926,\n",
       " 'abov': 712,\n",
       " 'york': 545,\n",
       " 'within': 434,\n",
       " 'sing': 1624,\n",
       " 'oscar': 200,\n",
       " 'haven': 1938,\n",
       " 'five': 117,\n",
       " 'odd': 1250,\n",
       " 'chase': 85,\n",
       " 'inspir': 1944,\n",
       " 'easi': 325,\n",
       " 'prison': 1204,\n",
       " 'appreci': 1009,\n",
       " 'narrat': 50,\n",
       " 'artist': 1063,\n",
       " 'fire': 230,\n",
       " 'period': 1217,\n",
       " 'victim': 87,\n",
       " 'posit': 1613,\n",
       " 'box': 164,\n",
       " 'bill': 501,\n",
       " 'bunch': 1244,\n",
       " 'realist': 1786,\n",
       " 'lose': 1678,\n",
       " 'forget': 618,\n",
       " 'space': 1703,\n",
       " 'imag': 1332,\n",
       " 'color': 1211,\n",
       " 'busi': 127,\n",
       " 'red': 252,\n",
       " 'mari': 1137,\n",
       " 'normal': 1509,\n",
       " 'dull': 796,\n",
       " 'ad': 489,\n",
       " 'e': 197,\n",
       " 'cultur': 336,\n",
       " 'peter': 763,\n",
       " 'mix': 954,\n",
       " 'train': 893,\n",
       " 'america': 1075,\n",
       " 'drug': 1971,\n",
       " 'third': 656,\n",
       " 'harri': 210,\n",
       " 'mess': 108,\n",
       " 'materi': 446,\n",
       " 'fantast': 1982,\n",
       " 'standard': 2206,\n",
       " 'sorri': 1286,\n",
       " 'issu': 793,\n",
       " 'whether': 1954,\n",
       " 'list': 377,\n",
       " 'suffer': 1041,\n",
       " 'tom': 294,\n",
       " 'agre': 659,\n",
       " 'among': 894,\n",
       " 'th': 548,\n",
       " 'suggest': 1138,\n",
       " 'larg': 878,\n",
       " 'de': 1747,\n",
       " 'ultim': 1168,\n",
       " 'captur': 321,\n",
       " 'troubl': 1936,\n",
       " 'gone': 135,\n",
       " 'copi': 345,\n",
       " 'lee': 1518,\n",
       " 'dramat': 1559,\n",
       " 'kept': 2066,\n",
       " 'sudden': 1060,\n",
       " 'paul': 763,\n",
       " 'eventu': 1168,\n",
       " 'soundtrack': 454,\n",
       " 'cartoon': 1757,\n",
       " 'student': 2195,\n",
       " 'finish': 929,\n",
       " 'rare': 511,\n",
       " 'adventur': 1694,\n",
       " 'herself': 658,\n",
       " 'accept': 740,\n",
       " 'suck': 1043,\n",
       " 'water': 180,\n",
       " 'premis': 151,\n",
       " 'brought': 1104,\n",
       " 'famous': 1055,\n",
       " 'frank': 1293,\n",
       " 'contain': 145,\n",
       " 'utter': 891,\n",
       " 'somehow': 1145,\n",
       " 'romanc': 825,\n",
       " 'throw': 1708,\n",
       " 'averag': 1575,\n",
       " 'reveal': 349,\n",
       " 'amus': 112,\n",
       " 'male': 723,\n",
       " 'lame': 1472,\n",
       " 'master': 537,\n",
       " 'okay': 436,\n",
       " 'adapt': 368,\n",
       " 'wit': 2131,\n",
       " 'project': 1892,\n",
       " 'free': 1047,\n",
       " 'whatev': 129,\n",
       " 'parti': 670,\n",
       " 'fear': 60,\n",
       " 'attract': 1527,\n",
       " 'choic': 1629,\n",
       " 'background': 1332,\n",
       " 'shame': 946,\n",
       " 'societi': 336,\n",
       " 'wear': 2233,\n",
       " 'locat': 809,\n",
       " 'ride': 815,\n",
       " 'fi': 1353,\n",
       " 'inde': 1590,\n",
       " 'screenplay': 446,\n",
       " 'sci': 1353,\n",
       " 'cri': 743,\n",
       " 'describ': 1983,\n",
       " 'week': 2034,\n",
       " 'scare': 1582,\n",
       " 'babi': 976,\n",
       " 'express': 304,\n",
       " 'fiction': 193,\n",
       " 'lover': 418,\n",
       " 'pure': 1315,\n",
       " 'public': 510,\n",
       " 'refer': 937,\n",
       " 'rich': 2046,\n",
       " 'doctor': 1368,\n",
       " 'treat': 918,\n",
       " 'dr': 1368,\n",
       " 'constant': 780,\n",
       " 'deep': 1014,\n",
       " 'memor': 354,\n",
       " 'soldier': 287,\n",
       " 'forward': 1002,\n",
       " 'potenti': 151,\n",
       " 'fli': 508,\n",
       " 'hot': 912,\n",
       " 'control': 2253,\n",
       " 'clever': 662,\n",
       " 'greatest': 623,\n",
       " 'slight': 185,\n",
       " 'otherwis': 1640,\n",
       " 'crew': 1610,\n",
       " 'difficult': 325,\n",
       " 'girlfriend': 418,\n",
       " 'remak': 2224,\n",
       " 'masterpiec': 1440,\n",
       " 'cheesi': 715,\n",
       " 'design': 711,\n",
       " 'ghost': 992,\n",
       " 'appeal': 1527,\n",
       " 'magic': 1309,\n",
       " 'joe': 1782,\n",
       " 'studio': 34,\n",
       " 'match': 922,\n",
       " 'plus': 2236,\n",
       " 'weird': 1088,\n",
       " 'costum': 1160,\n",
       " 'stereotyp': 449,\n",
       " 'becam': 540,\n",
       " 'earlier': 955,\n",
       " 'execut': 1617,\n",
       " 'nor': 679,\n",
       " 'struggl': 1675,\n",
       " 'uniqu': 883,\n",
       " 'teen': 1758,\n",
       " 'surviv': 1086,\n",
       " 'flaw': 170,\n",
       " 'outsid': 434,\n",
       " 'island': 31,\n",
       " 'crazi': 1023,\n",
       " 'lie': 2163,\n",
       " 'mad': 1251,\n",
       " 'bother': 584,\n",
       " 'accent': 290,\n",
       " 'travel': 2363,\n",
       " 'maker': 1354,\n",
       " 'footag': 235,\n",
       " 'fantasi': 460,\n",
       " 'era': 1217,\n",
       " 'grow': 215,\n",
       " 'warn': 1138,\n",
       " 'imdb': 2256,\n",
       " 'german': 1634,\n",
       " 'serv': 1050,\n",
       " 'whom': 1242,\n",
       " 'older': 481,\n",
       " 'concept': 151,\n",
       " 'disturb': 411,\n",
       " 'moral': 166,\n",
       " 'land': 893,\n",
       " 'spirit': 2255,\n",
       " 'unless': 1093,\n",
       " 'beat': 1248,\n",
       " 'wood': 1897,\n",
       " 'connect': 576,\n",
       " 'bare': 1289,\n",
       " 'front': 1693,\n",
       " 'plenti': 1557,\n",
       " 'dumb': 1472,\n",
       " 'popular': 358,\n",
       " 'store': 1800,\n",
       " 'scream': 1567,\n",
       " 'grant': 864,\n",
       " 'catch': 1905,\n",
       " 'japanes': 21,\n",
       " 'insid': 434,\n",
       " 'depict': 1129,\n",
       " 'various': 725,\n",
       " 'eat': 457,\n",
       " 'jump': 2076,\n",
       " 'equal': 219,\n",
       " 'superb': 1982,\n",
       " 'award': 200,\n",
       " 'concern': 1910,\n",
       " ...}"
      ]
     },
     "execution_count": 19,
     "metadata": {},
     "output_type": "execute_result"
    }
   ],
   "source": [
    "word_centroid_map"
   ]
  },
  {
   "cell_type": "code",
   "execution_count": 20,
   "metadata": {},
   "outputs": [
    {
     "name": "stdout",
     "output_type": "stream",
     "text": [
      "20\n"
     ]
    }
   ],
   "source": [
    "ctn = 0\n",
    "for i in word_centroid_map.values():\n",
    "    if i == 4:\n",
    "        ctn += 1\n",
    "print(ctn)"
   ]
  },
  {
   "cell_type": "code",
   "execution_count": 21,
   "metadata": {
    "scrolled": true
   },
   "outputs": [
    {
     "name": "stdout",
     "output_type": "stream",
     "text": [
      "Fitting a random forest to labeled training data...\n",
      "Wall time: 23.2 s\n"
     ]
    }
   ],
   "source": [
    "# 학습 리뷰를 bags of centroids 로 변환한다.\n",
    "counter = 0\n",
    "for review in clean_train_reviews:\n",
    "    train_centroids[counter] = create_bag_of_centroids( review, \\\n",
    "        word_centroid_map )\n",
    "    counter += 1\n",
    "\n",
    "# 테스트 리뷰도 같은 방법으로 반복해 준다.\n",
    "test_centroids = np.zeros(( test[\"review\"].size, num_clusters), \\\n",
    "    dtype=\"float32\" )\n",
    "\n",
    "counter = 0\n",
    "for review in clean_test_reviews:\n",
    "    test_centroids[counter] = create_bag_of_centroids( review, \\\n",
    "        word_centroid_map )\n",
    "    counter += 1\n",
    "\n",
    "\n",
    "forest = RandomForestClassifier(n_estimators = 100)\n",
    "\n",
    "print(\"Fitting a random forest to labeled training data...\")\n",
    "%time forest = forest.fit(train_centroids, train[\"sentiment\"])"
   ]
  },
  {
   "cell_type": "code",
   "execution_count": 22,
   "metadata": {},
   "outputs": [
    {
     "data": {
      "text/plain": [
       "RandomForestClassifier(bootstrap=True, class_weight=None, criterion='gini',\n",
       "            max_depth=None, max_features='auto', max_leaf_nodes=None,\n",
       "            min_impurity_decrease=0.0, min_impurity_split=None,\n",
       "            min_samples_leaf=1, min_samples_split=2,\n",
       "            min_weight_fraction_leaf=0.0, n_estimators=100, n_jobs=None,\n",
       "            oob_score=False, random_state=None, verbose=0,\n",
       "            warm_start=False)"
      ]
     },
     "execution_count": 22,
     "metadata": {},
     "output_type": "execute_result"
    }
   ],
   "source": [
    "forest = RandomForestClassifier(n_estimators = 100)\n",
    "forest.fit(train_centroids, train[\"sentiment\"])"
   ]
  },
  {
   "cell_type": "code",
   "execution_count": 26,
   "metadata": {},
   "outputs": [
    {
     "name": "stdout",
     "output_type": "stream",
     "text": [
      "Wall time: 7min 14s\n"
     ]
    }
   ],
   "source": [
    "from sklearn.model_selection import cross_val_score\n",
    "%time score = np.mean(cross_val_score(\\\n",
    "    forest, train_centroids, train['sentiment'], cv=10,\\\n",
    "    scoring='roc_auc'))"
   ]
  },
  {
   "cell_type": "code",
   "execution_count": 27,
   "metadata": {},
   "outputs": [
    {
     "name": "stdout",
     "output_type": "stream",
     "text": [
      "Wall time: 3.34 s\n"
     ]
    }
   ],
   "source": [
    "%time y_pred = forest.predict(test_centroids)"
   ]
  },
  {
   "cell_type": "code",
   "execution_count": 28,
   "metadata": {},
   "outputs": [
    {
     "data": {
      "text/plain": [
       "0.9113065600000001"
      ]
     },
     "execution_count": 28,
     "metadata": {},
     "output_type": "execute_result"
    }
   ],
   "source": [
    "score"
   ]
  },
  {
   "cell_type": "code",
   "execution_count": 30,
   "metadata": {},
   "outputs": [],
   "source": [
    "# 결과를 csv로 저장\n",
    "output = pd.DataFrame(data={\"id\":test[\"id\"], \"sentiment\":y_pred})\n",
    "output.to_csv(\"data/submit_BagOfCentroids_{0:.5f}.csv\".format(score), index=False, quoting=3)"
   ]
  },
  {
   "cell_type": "code",
   "execution_count": 31,
   "metadata": {},
   "outputs": [
    {
     "data": {
      "text/plain": [
       "<matplotlib.axes._subplots.AxesSubplot at 0x288c124e3c8>"
      ]
     },
     "execution_count": 31,
     "metadata": {},
     "output_type": "execute_result"
    },
    {
     "data": {
      "image/png": "[encoded data removed]",
      "text/plain": [
       "<Figure size 864x360 with 2 Axes>"
      ]
     },
     "metadata": {
      "needs_background": "light"
     },
     "output_type": "display_data"
    }
   ],
   "source": [
    "fig, axes = plt.subplots(ncols=2)\n",
    "fig.set_size_inches(12,5)\n",
    "sns.countplot(train['sentiment'], ax=axes[0])\n",
    "sns.countplot(output['sentiment'], ax=axes[1])"
   ]
  },
  {
   "cell_type": "code",
   "execution_count": 32,
   "metadata": {},
   "outputs": [
    {
     "name": "stdout",
     "output_type": "stream",
     "text": [
      "380\n"
     ]
    },
    {
     "data": {
      "text/plain": [
       "0    12690\n",
       "1    12310\n",
       "Name: sentiment, dtype: int64"
      ]
     },
     "execution_count": 32,
     "metadata": {},
     "output_type": "execute_result"
    }
   ],
   "source": [
    "output_sentiment = output['sentiment'].value_counts()\n",
    "print(output_sentiment[0] - output_sentiment[1])\n",
    "output_sentiment"
   ]
  },
  {
   "cell_type": "code",
   "execution_count": 33,
   "metadata": {},
   "outputs": [
    {
     "name": "stdout",
     "output_type": "stream",
     "text": [
      "0.625\n"
     ]
    }
   ],
   "source": [
    "# 캐글 점수 0.84908\n",
    "print(330/528)"
   ]
  },
  {
   "cell_type": "code",
   "execution_count": 34,
   "metadata": {},
   "outputs": [],
   "source": [
    "from sklearn.metrics import confusion_matrix"
   ]
  },
  {
   "cell_type": "code",
   "execution_count": 35,
   "metadata": {},
   "outputs": [
    {
     "data": {
      "text/plain": [
       "25000"
      ]
     },
     "execution_count": 35,
     "metadata": {},
     "output_type": "execute_result"
    }
   ],
   "source": [
    "len(output)"
   ]
  },
  {
   "cell_type": "code",
   "execution_count": 36,
   "metadata": {},
   "outputs": [
    {
     "data": {
      "text/plain": [
       "25000"
      ]
     },
     "execution_count": 36,
     "metadata": {},
     "output_type": "execute_result"
    }
   ],
   "source": [
    "len(test_centroids)"
   ]
  },
  {
   "cell_type": "code",
   "execution_count": 37,
   "metadata": {},
   "outputs": [],
   "source": [
    "y_real = list(train['sentiment'])"
   ]
  },
  {
   "cell_type": "code",
   "execution_count": 38,
   "metadata": {},
   "outputs": [
    {
     "data": {
      "text/plain": [
       "array([[6390, 6110],\n",
       "       [6300, 6200]], dtype=int64)"
      ]
     },
     "execution_count": 38,
     "metadata": {},
     "output_type": "execute_result"
    }
   ],
   "source": [
    "confusion_matrix(y_real, y_pred)"
   ]
  },
  {
   "cell_type": "code",
   "execution_count": null,
   "metadata": {},
   "outputs": [],
   "source": []
  }
 ],
 "metadata": {
  "kernelspec": {
   "display_name": "Python 3",
   "language": "python",
   "name": "python3"
  },
  "language_info": {
   "codemirror_mode": {
    "name": "ipython",
    "version": 3
   },
   "file_extension": ".py",
   "mimetype": "text/x-python",
   "name": "python",
   "nbconvert_exporter": "python",
   "pygments_lexer": "ipython3",
   "version": "3.7.3"
  }
 },
 "nbformat": 4,
 "nbformat_minor": 2
}
